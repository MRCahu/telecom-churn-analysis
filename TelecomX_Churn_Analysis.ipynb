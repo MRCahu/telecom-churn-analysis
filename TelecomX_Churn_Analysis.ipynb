{
 "cells": [
  {
   "cell_type": "markdown",
   "id": "2f56000d",
   "metadata": {},
   "source": [
    "# Análise de Churn de Clientes – Telecom X\n",
    "\n",
    "**Autor:** Seu Nome  \n",
    "**Data:** 2025-06-XX  \n",
    "**Projeto:** Challenge Telecom X  \n",
    "\n",
    "**Resumo:**  \n",
    "Este notebook consolida todo o processo de ETL, limpeza, análise exploratória e insights para reduzir o churn (evasão) de clientes na Telecom X.  \n"
   ]
  },
  {
   "cell_type": "markdown",
   "id": "22a08cf4",
   "metadata": {},
   "source": [
    "## 1. Introdução\n",
    "\n",
    "A Telecom X tem observado um crescente índice de evasão de clientes (churn), impactando diretamente sua receita e capacidade de manter um fluxo recorrente estável.  \n",
    "O objetivo desta análise é:\n",
    "\n",
    "1. **Entender** o perfil dos clientes que cancelam o serviço em comparação com os que permanecem.\n",
    "2. **Identificar** padrões em dados demográficos (gênero, idade, dependentes), comportamentais (tipo de plano, serviços contratados) e financeiros (valor gasto, tempo de contrato).\n",
    "3. **Gerar insights** e **recomendações** que possam ser utilizados pela equipe de marketing e retenção para reduzir o churn.\n"
   ]
  },
  {
   "cell_type": "code",
   "execution_count": null,
   "id": "ea8453cc",
   "metadata": {},
   "outputs": [],
   "source": [
    "# 2. Importar bibliotecas necessárias\n",
    "import os\n",
    "import pandas as pd\n",
    "import matplotlib.pyplot as plt\n",
    "import seaborn as sns\n",
    "\n",
    "sns.set_style(\"whitegrid\")\n",
    "plt.rcParams[\"figure.figsize\"] = (8, 5)\n",
    "\n",
    "# Definir caminhos (ajuste de acordo com a organização do seu projeto)\n",
    "BASE_DIR    = os.getcwd()  # Em Jupyter, assume a pasta onde o notebook está salvo\n",
    "CLEAN_CSV   = os.path.join(BASE_DIR, \"data\", \"clean\", \"telecom_churn_cleaned.csv\")\n",
    "FEATURES_CSV = os.path.join(BASE_DIR, \"data\", \"clean\", \"telecom_churn_features.csv\")\n",
    "TRANSFORMED_CSV = os.path.join(BASE_DIR, \"data\", \"clean\", \"telecom_churn_transformed.csv\")\n",
    "REPORTS_DIR = os.path.join(BASE_DIR, \"reports\")\n",
    "\n",
    "# Carregar os dados (usar o CSV final transformado para todas as análises)\n",
    "df = pd.read_csv(TRANSFORMED_CSV)\n",
    "print(\"Dimensões do DataFrame transformado:\", df.shape)\n",
    "df.head(3)\n"
   ]
  }
 ],
 "metadata": {
  "kernelspec": {
   "display_name": ".venv",
   "language": "python",
   "name": "python3"
  },
  "language_info": {
   "name": "python",
   "version": "3.11.9"
  }
 },
 "nbformat": 4,
 "nbformat_minor": 5
}
